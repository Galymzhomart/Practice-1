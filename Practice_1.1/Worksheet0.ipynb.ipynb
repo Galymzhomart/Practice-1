{
 "cells": [
  {
   "cell_type": "markdown",
   "metadata": {},
   "source": [
    "**Напечатайте свое имя и фамилию с помощью <code>input()</code> и <code>.format</code>.**"
   ]
  },
  {
   "cell_type": "code",
   "execution_count": 2,
   "metadata": {},
   "outputs": [
    {
     "name": "stdout",
     "output_type": "stream",
     "text": [
      "You are G B\n"
     ]
    }
   ],
   "source": [
    "#Код\n",
    "a = input(\"Name: \")\n",
    "b = input(\"Surname: \")\n",
    "print(\"You are \" + a + \" \" + b)"
   ]
  },
  {
   "cell_type": "markdown",
   "metadata": {},
   "source": [
    "**1) Напишите выражение, равное 65. Например: 50 + 15; 72-7; 10 * 6 + 5 и. т. д. Попробуйте использовать больше арифметических операторов.**"
   ]
  },
  {
   "cell_type": "code",
   "execution_count": 10,
   "metadata": {},
   "outputs": [
    {
     "name": "stdout",
     "output_type": "stream",
     "text": [
      "65\n",
      "65\n",
      "75\n"
     ]
    }
   ],
   "source": [
    "#Код\n",
    "\n",
    "print(5* 10 + 15)\n",
    "print(100 - (4 * 5) - 15)\n",
    "print((6 + 4) * 6 +15)\n",
    "\n"
   ]
  },
  {
   "cell_type": "markdown",
   "metadata": {},
   "source": [
    "**2) Напишите уравнение, которое использует умножение, деление, показатель степени, сложение и вычитание, равное 70.25.**"
   ]
  },
  {
   "cell_type": "code",
   "execution_count": 13,
   "metadata": {},
   "outputs": [
    {
     "name": "stdout",
     "output_type": "stream",
     "text": [
      "70.25\n"
     ]
    }
   ],
   "source": [
    "#Код\n",
    "result = (10 * 8) / 2 + 5**2 - 4.75 + 10\n",
    "print(result)"
   ]
  },
  {
   "cell_type": "markdown",
   "metadata": {},
   "source": [
    "**3) Какой тип имеет результат выражения 3 + 1,5 + 4?**"
   ]
  },
  {
   "cell_type": "code",
   "execution_count": 14,
   "metadata": {},
   "outputs": [
    {
     "name": "stdout",
     "output_type": "stream",
     "text": [
      "8.5\n"
     ]
    }
   ],
   "source": [
    "print(3+ 1.5 + 4)\n",
    "# float"
   ]
  },
  {
   "cell_type": "markdown",
   "metadata": {},
   "source": [
    "**4) Что бы вы использовали, чтобы найти квадратный корень числа, а также его квадрат? Приведите примеры.**"
   ]
  },
  {
   "cell_type": "code",
   "execution_count": 15,
   "metadata": {},
   "outputs": [
    {
     "name": "stdout",
     "output_type": "stream",
     "text": [
      "2.0\n",
      "16.0\n"
     ]
    }
   ],
   "source": [
    "#Код\n",
    "a = float(input())\n",
    "print(a ** 0.5)\n",
    "print(a ** 2)"
   ]
  },
  {
   "cell_type": "markdown",
   "metadata": {},
   "source": [
    "**5) Какой остаток дает число 100 при делении на 7?**"
   ]
  },
  {
   "cell_type": "code",
   "execution_count": 16,
   "metadata": {},
   "outputs": [
    {
     "name": "stdout",
     "output_type": "stream",
     "text": [
      "2\n"
     ]
    }
   ],
   "source": [
    "print(100%7)"
   ]
  },
  {
   "cell_type": "markdown",
   "metadata": {},
   "source": [
    "**6) 7 в 3-й степени?**"
   ]
  },
  {
   "cell_type": "code",
   "execution_count": 17,
   "metadata": {},
   "outputs": [
    {
     "name": "stdout",
     "output_type": "stream",
     "text": [
      "343\n"
     ]
    }
   ],
   "source": [
    "print(7**3)"
   ]
  },
  {
   "cell_type": "markdown",
   "metadata": {},
   "source": [
    "**7) Прочитайте два целых числа и выведите три строки, где:**\n",
    "\n",
    "а) Первая строка содержит сумму двух чисел.\n",
    "\n",
    "б) Вторая строка содержит разницу двух чисел (первое - второе).\n",
    "\n",
    "в) Третья строка содержит произведение двух чисел.\n",
    "\n",
    "**Tip**: <code>a = int(input())</code>"
   ]
  },
  {
   "cell_type": "code",
   "execution_count": 18,
   "metadata": {},
   "outputs": [
    {
     "name": "stdout",
     "output_type": "stream",
     "text": [
      "14\n",
      "6\n",
      "40\n"
     ]
    }
   ],
   "source": [
    "#Код\n",
    "a = int(input())\n",
    "b = int(input())\n",
    "print(a+b)\n",
    "if a - b >=0:\n",
    "    print(a - b)\n",
    "else:\n",
    "    print(b - a)\n",
    "\n",
    "print(a*b)\n"
   ]
  },
  {
   "cell_type": "markdown",
   "metadata": {},
   "source": [
    "**8) Прочитайте два целых числа и выведите две строки.** \n",
    "\n",
    "a) Первая строка должна содержать целочисленное деление(integer division), <code>//</code>. \n",
    "\n",
    "b) Вторая строка должна содержать деление на число с плавающей запятой(float division), <code>/</code>."
   ]
  },
  {
   "cell_type": "code",
   "execution_count": 19,
   "metadata": {},
   "outputs": [
    {
     "name": "stdout",
     "output_type": "stream",
     "text": [
      "33\n",
      "33.333333333333336\n"
     ]
    }
   ],
   "source": [
    "#Код\n",
    "a = int(input())\n",
    "b = int(input())\n",
    "print(a//b)\n",
    "print(a/b)"
   ]
  },
  {
   "cell_type": "markdown",
   "metadata": {},
   "source": [
    "# Прекрасная работа!"
   ]
  }
 ],
 "metadata": {
  "kernelspec": {
   "display_name": "base",
   "language": "python",
   "name": "python3"
  },
  "language_info": {
   "codemirror_mode": {
    "name": "ipython",
    "version": 3
   },
   "file_extension": ".py",
   "mimetype": "text/x-python",
   "name": "python",
   "nbconvert_exporter": "python",
   "pygments_lexer": "ipython3",
   "version": "3.12.7"
  }
 },
 "nbformat": 4,
 "nbformat_minor": 2
}
